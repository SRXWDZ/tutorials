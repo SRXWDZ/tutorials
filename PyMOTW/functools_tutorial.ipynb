{
 "cells": [
  {
   "cell_type": "code",
   "execution_count": 16,
   "metadata": {},
   "outputs": [
    {
     "name": "stdout",
     "output_type": "stream",
     "text": [
      "myfunc:\n",
      "  object: <function myfunc at 0x7f54f70aa730>\n",
      "  __name__: myfunc\n",
      "  called myfunc with: ('a', 3)\n"
     ]
    }
   ],
   "source": [
    "import functools\n",
    "\n",
    "def myfunc(a, b=2):\n",
    "    \"Docstring for myfunc().\"\n",
    "    print('  called myfunc with:', (a, b))\n",
    "\n",
    "def show_details(name, f, is_partial=False):\n",
    "    \"Show details of a callable object.\"\n",
    "    print('{}:'.format(name))\n",
    "    print('  object:', f)\n",
    "    if not is_partial:\n",
    "        print('  __name__:', f.__name__)\n",
    "    if is_partial:\n",
    "        print('  func:', f.func)\n",
    "        print('  args:', f.args)\n",
    "        print('  keywords:', f.keywords)\n",
    "    return\n",
    "\n",
    "show_details('myfunc', myfunc)\n",
    "myfunc('a', 3)"
   ]
  },
  {
   "cell_type": "code",
   "execution_count": 17,
   "metadata": {},
   "outputs": [
    {
     "name": "stdout",
     "output_type": "stream",
     "text": [
      "partial with named default:\n",
      "  object: functools.partial(<function myfunc at 0x7f54f70aa730>, b=4)\n",
      "  func: <function myfunc at 0x7f54f70aa730>\n",
      "  args: ()\n",
      "  keywords: {'b': 4}\n",
      "  called myfunc with: ('passing a', 4)\n",
      "  called myfunc with: ('override a', 5)\n",
      "\n",
      "partial with defaults:\n",
      "  object: functools.partial(<function myfunc at 0x7f54f70aa730>, 'default a', b=99)\n",
      "  func: <function myfunc at 0x7f54f70aa730>\n",
      "  args: ('default a',)\n",
      "  keywords: {'b': 99}\n",
      "  called myfunc with: ('default a', 99)\n",
      "  called myfunc with: ('default a', 'override b')\n",
      "\n",
      "Insufficient arguments:\n"
     ]
    },
    {
     "ename": "TypeError",
     "evalue": "myfunc() missing 1 required positional argument: 'a'",
     "output_type": "error",
     "traceback": [
      "\u001b[0;31m---------------------------------------------------------------------------\u001b[0m",
      "\u001b[0;31mTypeError\u001b[0m                                 Traceback (most recent call last)",
      "\u001b[0;32m<ipython-input-17-6334481d2107>\u001b[0m in \u001b[0;36m<module>\u001b[0;34m\u001b[0m\n\u001b[1;32m     15\u001b[0m \u001b[0;34m\u001b[0m\u001b[0m\n\u001b[1;32m     16\u001b[0m \u001b[0mprint\u001b[0m\u001b[0;34m(\u001b[0m\u001b[0;34m'Insufficient arguments:'\u001b[0m\u001b[0;34m)\u001b[0m\u001b[0;34m\u001b[0m\u001b[0m\n\u001b[0;32m---> 17\u001b[0;31m \u001b[0mp1\u001b[0m\u001b[0;34m(\u001b[0m\u001b[0;34m)\u001b[0m\u001b[0;34m\u001b[0m\u001b[0m\n\u001b[0m",
      "\u001b[0;31mTypeError\u001b[0m: myfunc() missing 1 required positional argument: 'a'"
     ]
    }
   ],
   "source": [
    "# Set a different default value for 'b', but require\n",
    "# the caller to provide 'a'.\n",
    "p1 = functools.partial(myfunc, b=4)\n",
    "show_details('partial with named default', p1, True)\n",
    "p1('passing a')\n",
    "p1('override a', b=5)\n",
    "print()\n",
    "\n",
    "# Set default values for both 'a' and 'b'.\n",
    "p2 = functools.partial(myfunc, 'default a', b=99)\n",
    "show_details('partial with defaults', p2, True)\n",
    "p2()\n",
    "p2(b='override b')\n",
    "print()\n",
    "\n",
    "print('Insufficient arguments:')\n",
    "p1()"
   ]
  },
  {
   "cell_type": "code",
   "execution_count": 18,
   "metadata": {},
   "outputs": [
    {
     "name": "stdout",
     "output_type": "stream",
     "text": [
      "myfunc:\n",
      "  object: <function myfunc at 0x7f54f7122b70>\n",
      "  __name__: myfunc\n",
      "  __doc__ 'Docstring for myfunc().'\n",
      "\n",
      "raw wrapper:\n",
      "  object: functools.partial(<function myfunc at 0x7f54f7122b70>, b=4)\n",
      "  __name__: (no __name__)\n",
      "  __doc__ 'partial(func, *args, **keywords) - new function with partial application\\n    of the given arguments and keywords.\\n'\n",
      "\n",
      "Updating wrapper:\n",
      "  assign: ('__module__', '__name__', '__qualname__', '__doc__', '__annotations__')\n",
      "  update: ('__dict__',)\n",
      "\n",
      "updated wrapper:\n",
      "  object: functools.partial(<function myfunc at 0x7f54f7122b70>, b=4)\n",
      "  __name__: myfunc\n",
      "  __doc__ 'Docstring for myfunc().'\n",
      "\n"
     ]
    }
   ],
   "source": [
    "def myfunc(a, b=2):\n",
    "    \"Docstring for myfunc().\"\n",
    "    print('  called myfunc with:', (a, b))\n",
    "\n",
    "def show_details(name, f):\n",
    "    \"Show details of a callable object.\"\n",
    "    print('{}:'.format(name))\n",
    "    print('  object:', f)\n",
    "    print('  __name__:', end=' ')\n",
    "    try:\n",
    "        print(f.__name__)\n",
    "    except AttributeError:\n",
    "        print('(no __name__)')\n",
    "    print('  __doc__', repr(f.__doc__))\n",
    "    print()\n",
    "\n",
    "show_details('myfunc', myfunc)\n",
    "\n",
    "p1 = functools.partial(myfunc, b=4)\n",
    "show_details('raw wrapper', p1)\n",
    "\n",
    "print('Updating wrapper:')\n",
    "print('  assign:', functools.WRAPPER_ASSIGNMENTS)\n",
    "print('  update:', functools.WRAPPER_UPDATES)\n",
    "print()\n",
    "\n",
    "functools.update_wrapper(p1, myfunc)\n",
    "show_details('updated wrapper', p1)"
   ]
  },
  {
   "cell_type": "code",
   "execution_count": 19,
   "metadata": {},
   "outputs": [
    {
     "name": "stdout",
     "output_type": "stream",
     "text": [
      "instance:\n",
      "  object: <__main__.MyClass object at 0x7f54f70bbd30>\n",
      "  __name__: (no __name__)\n",
      "  __doc__ 'Demonstration class for functools'\n",
      "  called object with: (<__main__.MyClass object at 0x7f54f70bbd30>, 'e goes here', 6)\n",
      "\n",
      "instance wrapper:\n",
      "  object: functools.partial(<__main__.MyClass object at 0x7f54f70bbd30>, e='default for e', f=8)\n",
      "  __name__: (no __name__)\n",
      "  __doc__ 'Demonstration class for functools'\n",
      "  called object with: (<__main__.MyClass object at 0x7f54f70bbd30>, 'default for e', 8)\n"
     ]
    }
   ],
   "source": [
    "class MyClass:\n",
    "    \"Demonstration class for functools\"\n",
    "\n",
    "    def __call__(self, e, f=6):\n",
    "        \"Docstring for MyClass.__call__\"\n",
    "        print('  called object with:', (self, e, f))\n",
    "\n",
    "def show_details(name, f):\n",
    "    \"Show details of a callable object.\"\n",
    "    print('{}:'.format(name))\n",
    "    print('  object:', f)\n",
    "    print('  __name__:', end=' ')\n",
    "    try:\n",
    "        print(f.__name__)\n",
    "    except AttributeError:\n",
    "        print('(no __name__)')\n",
    "    print('  __doc__', repr(f.__doc__))\n",
    "    return\n",
    "\n",
    "o = MyClass()\n",
    "\n",
    "show_details('instance', o)\n",
    "o('e goes here')\n",
    "print()\n",
    "\n",
    "p = functools.partial(o, e='default for e', f=8)\n",
    "functools.update_wrapper(p, o)\n",
    "show_details('instance wrapper', p)\n",
    "p()"
   ]
  },
  {
   "cell_type": "code",
   "execution_count": 20,
   "metadata": {},
   "outputs": [
    {
     "name": "stdout",
     "output_type": "stream",
     "text": [
      "standalone\n",
      "  called standalone with: (None, 1, 2)\n",
      "\n",
      "method1 as partialmethod\n",
      "  called standalone with: (<__main__.MyClass object at 0x7f54f70b65f8>, 1, 2)\n",
      "  self.attr = instance attribute\n",
      "\n",
      "method2 as partial\n",
      "ERROR: standalone() missing 1 required positional argument: 'self'\n"
     ]
    }
   ],
   "source": [
    "def standalone(self, a=1, b=2):\n",
    "    \"Standalone function\"\n",
    "    print('  called standalone with:', (self, a, b))\n",
    "    if self is not None:\n",
    "        print('  self.attr =', self.attr)\n",
    "\n",
    "class MyClass:\n",
    "    \"Demonstration class for functools\"\n",
    "\n",
    "    def __init__(self):\n",
    "        self.attr = 'instance attribute'\n",
    "\n",
    "    method1 = functools.partialmethod(standalone)\n",
    "    method2 = functools.partial(standalone)\n",
    "\n",
    "o = MyClass()\n",
    "\n",
    "print('standalone')\n",
    "standalone(None)\n",
    "print()\n",
    "\n",
    "print('method1 as partialmethod')\n",
    "o.method1()\n",
    "print()\n",
    "\n",
    "print('method2 as partial')\n",
    "try:\n",
    "    o.method2()\n",
    "except TypeError as err:\n",
    "    print('ERROR: {}'.format(err))"
   ]
  },
  {
   "cell_type": "code",
   "execution_count": 21,
   "metadata": {},
   "outputs": [
    {
     "name": "stdout",
     "output_type": "stream",
     "text": [
      "myfunc:\n",
      "  object: <function myfunc at 0x7f54f7122c80>\n",
      "  __name__: myfunc\n",
      "  __doc__ 'myfunc() is not complicated'\n",
      "\n",
      "  myfunc: ('unwrapped, default b', 2)\n",
      "  myfunc: ('unwrapped, passing b', 3)\n",
      "\n",
      "wrapped_myfunc:\n",
      "  object: <function myfunc at 0x7f54f70aaf28>\n",
      "  __name__: myfunc\n",
      "  __doc__ 'myfunc() is not complicated'\n",
      "\n",
      "  decorated: ('decorated defaults', 1)\n",
      "     myfunc: ('decorated defaults', 1)\n",
      "  decorated: ('args to wrapped', 4)\n",
      "     myfunc: ('args to wrapped', 4)\n",
      "\n"
     ]
    }
   ],
   "source": [
    "def show_details(name, f):\n",
    "    \"Show details of a callable object.\"\n",
    "    print('{}:'.format(name))\n",
    "    print('  object:', f)\n",
    "    print('  __name__:', end=' ')\n",
    "    try:\n",
    "        print(f.__name__)\n",
    "    except AttributeError:\n",
    "        print('(no __name__)')\n",
    "    print('  __doc__', repr(f.__doc__))\n",
    "    print()\n",
    "\n",
    "def simple_decorator(f):\n",
    "    @functools.wraps(f)\n",
    "    def decorated(a='decorated defaults', b=1):\n",
    "        print('  decorated:', (a, b))\n",
    "        print('  ', end=' ')\n",
    "        return f(a, b=b)\n",
    "    return decorated\n",
    "\n",
    "def myfunc(a, b=2):\n",
    "    \"myfunc() is not complicated\"\n",
    "    print('  myfunc:', (a, b))\n",
    "    return\n",
    "\n",
    "# The raw function\n",
    "show_details('myfunc', myfunc)\n",
    "myfunc('unwrapped, default b')\n",
    "myfunc('unwrapped, passing b', 3)\n",
    "print()\n",
    "\n",
    "# Wrap explicitly\n",
    "wrapped_myfunc = simple_decorator(myfunc)\n",
    "show_details('wrapped_myfunc', wrapped_myfunc)\n",
    "wrapped_myfunc()\n",
    "wrapped_myfunc('args to wrapped', 4)\n",
    "print()"
   ]
  },
  {
   "cell_type": "code",
   "execution_count": 23,
   "metadata": {},
   "outputs": [
    {
     "name": "stdout",
     "output_type": "stream",
     "text": [
      "decorated_myfunc:\n",
      "  object: <function decorated_myfunc at 0x7f54f7930488>\n",
      "  __name__: decorated_myfunc\n",
      "  __doc__ None\n",
      "\n",
      "  decorated: ('decorated defaults', 1)\n",
      "     myfunc: ('decorated defaults', 1)\n",
      "  decorated: ('args to decorated', 4)\n",
      "     myfunc: ('args to decorated', 4)\n"
     ]
    }
   ],
   "source": [
    "# Wrap with decorator syntax\n",
    "@simple_decorator\n",
    "def decorated_myfunc(a, b):\n",
    "    myfunc(a, b)\n",
    "    return\n",
    "\n",
    "show_details('decorated_myfunc', decorated_myfunc)\n",
    "decorated_myfunc()\n",
    "decorated_myfunc('args to decorated', 4)"
   ]
  },
  {
   "cell_type": "code",
   "execution_count": 24,
   "metadata": {},
   "outputs": [
    {
     "name": "stdout",
     "output_type": "stream",
     "text": [
      "Methods:\n",
      "\n",
      "[('__eq__', <function MyObject.__eq__ at 0x7f54f7930d08>),\n",
      " ('__ge__', <function _ge_from_gt at 0x7f552f5afe18>),\n",
      " ('__gt__', <function MyObject.__gt__ at 0x7f54f7930f28>),\n",
      " ('__init__', <function MyObject.__init__ at 0x7f54f7930c80>),\n",
      " ('__le__', <function _le_from_gt at 0x7f552f5afea0>),\n",
      " ('__lt__', <function _lt_from_gt at 0x7f552f5afd90>)]\n",
      "\n",
      "Comparisons:\n",
      "\n",
      "a < b :\n",
      "  testing __gt__(1, 2)\n",
      "  testing __eq__(1, 2)\n",
      "  result of a < b: True\n",
      "\n",
      "a <= b:\n",
      "  testing __gt__(1, 2)\n",
      "  result of a <= b: True\n",
      "\n",
      "a == b:\n",
      "  testing __eq__(1, 2)\n",
      "  result of a == b: False\n",
      "\n",
      "a >= b:\n",
      "  testing __gt__(1, 2)\n",
      "  testing __eq__(1, 2)\n",
      "  result of a >= b: False\n",
      "\n",
      "a > b :\n",
      "  testing __gt__(1, 2)\n",
      "  result of a > b: False\n"
     ]
    }
   ],
   "source": [
    "from pprint import pprint\n",
    "import inspect\n",
    "\n",
    "@functools.total_ordering\n",
    "class MyObject:\n",
    "\n",
    "    def __init__(self, val):\n",
    "        self.val = val\n",
    "\n",
    "    def __eq__(self, other):\n",
    "        print('  testing __eq__({}, {})'.format(\n",
    "            self.val, other.val))\n",
    "        return self.val == other.val\n",
    "\n",
    "    def __gt__(self, other):\n",
    "        print('  testing __gt__({}, {})'.format(\n",
    "            self.val, other.val))\n",
    "        return self.val > other.val\n",
    "\n",
    "\n",
    "print('Methods:\\n')\n",
    "pprint(inspect.getmembers(MyObject, inspect.isfunction))\n",
    "\n",
    "a = MyObject(1)\n",
    "b = MyObject(2)\n",
    "\n",
    "print('\\nComparisons:')\n",
    "for expr in ['a < b', 'a <= b', 'a == b', 'a >= b', 'a > b']:\n",
    "    print('\\n{:<6}:'.format(expr))\n",
    "    result = eval(expr)\n",
    "    print('  result of {}: {}'.format(expr, result))"
   ]
  },
  {
   "cell_type": "code",
   "execution_count": 25,
   "metadata": {},
   "outputs": [
    {
     "name": "stdout",
     "output_type": "stream",
     "text": [
      "key_wrapper(MyObject(5)) -> <functools.KeyWrapper object at 0x7f54f7980710>\n",
      "key_wrapper(MyObject(4)) -> <functools.KeyWrapper object at 0x7f54f7980150>\n",
      "key_wrapper(MyObject(3)) -> <functools.KeyWrapper object at 0x7f54f79807d0>\n",
      "key_wrapper(MyObject(2)) -> <functools.KeyWrapper object at 0x7f54f7980590>\n",
      "key_wrapper(MyObject(1)) -> <functools.KeyWrapper object at 0x7f54f79806f0>\n",
      "comparing MyObject(4) and MyObject(5)\n",
      "comparing MyObject(3) and MyObject(4)\n",
      "comparing MyObject(2) and MyObject(3)\n",
      "comparing MyObject(1) and MyObject(2)\n",
      "MyObject(1)\n",
      "MyObject(2)\n",
      "MyObject(3)\n",
      "MyObject(4)\n",
      "MyObject(5)\n"
     ]
    }
   ],
   "source": [
    "class MyObject:\n",
    "\n",
    "    def __init__(self, val):\n",
    "        self.val = val\n",
    "\n",
    "    def __str__(self):\n",
    "        return 'MyObject({})'.format(self.val)\n",
    "\n",
    "\n",
    "def compare_obj(a, b):\n",
    "    \"\"\"Old-style comparison function.\n",
    "    \"\"\"\n",
    "    print('comparing {} and {}'.format(a, b))\n",
    "    if a.val < b.val:\n",
    "        return -1\n",
    "    elif a.val > b.val:\n",
    "        return 1\n",
    "    return 0\n",
    "\n",
    "\n",
    "# Make a key function using cmp_to_key()\n",
    "get_key = functools.cmp_to_key(compare_obj)\n",
    "\n",
    "def get_key_wrapper(o):\n",
    "    \"Wrapper function for get_key to allow for print statements.\"\n",
    "    new_key = get_key(o)\n",
    "    print('key_wrapper({}) -> {!r}'.format(o, new_key))\n",
    "    return new_key\n",
    "\n",
    "\n",
    "objs = [MyObject(x) for x in range(5, 0, -1)]\n",
    "\n",
    "for o in sorted(objs, key=get_key_wrapper):\n",
    "    print(o)"
   ]
  },
  {
   "cell_type": "code",
   "execution_count": 26,
   "metadata": {},
   "outputs": [
    {
     "name": "stdout",
     "output_type": "stream",
     "text": [
      "First set of calls:\n",
      "expensive(0, 0)\n",
      "expensive(0, 1)\n",
      "expensive(1, 0)\n",
      "expensive(1, 1)\n",
      "CacheInfo(hits=0, misses=4, maxsize=128, currsize=4)\n",
      "\n",
      "Second set of calls:\n",
      "expensive(0, 2)\n",
      "expensive(1, 2)\n",
      "expensive(2, 0)\n",
      "expensive(2, 1)\n",
      "expensive(2, 2)\n",
      "CacheInfo(hits=4, misses=9, maxsize=128, currsize=9)\n",
      "\n",
      "Clearing cache:\n",
      "CacheInfo(hits=0, misses=0, maxsize=128, currsize=0)\n",
      "\n",
      "Third set of calls:\n",
      "expensive(0, 0)\n",
      "expensive(0, 1)\n",
      "expensive(1, 0)\n",
      "expensive(1, 1)\n",
      "CacheInfo(hits=0, misses=4, maxsize=128, currsize=4)\n"
     ]
    }
   ],
   "source": [
    "@functools.lru_cache()\n",
    "def expensive(a, b):\n",
    "    print('expensive({}, {})'.format(a, b))\n",
    "    return a * b\n",
    "\n",
    "\n",
    "MAX = 2\n",
    "\n",
    "print('First set of calls:')\n",
    "for i in range(MAX):\n",
    "    for j in range(MAX):\n",
    "        expensive(i, j)\n",
    "print(expensive.cache_info())\n",
    "\n",
    "print('\\nSecond set of calls:')\n",
    "for i in range(MAX + 1):\n",
    "    for j in range(MAX + 1):\n",
    "        expensive(i, j)\n",
    "print(expensive.cache_info())\n",
    "\n",
    "print('\\nClearing cache:')\n",
    "expensive.cache_clear()\n",
    "print(expensive.cache_info())\n",
    "\n",
    "print('\\nThird set of calls:')\n",
    "for i in range(MAX):\n",
    "    for j in range(MAX):\n",
    "        expensive(i, j)\n",
    "print(expensive.cache_info())"
   ]
  },
  {
   "cell_type": "code",
   "execution_count": 27,
   "metadata": {},
   "outputs": [
    {
     "name": "stdout",
     "output_type": "stream",
     "text": [
      "Establish the cache\n",
      "(1, 2) called expensive(1, 2)\n",
      "(2, 3) called expensive(2, 3)\n",
      "\n",
      "Use cached items\n",
      "(1, 2) cache hit\n",
      "(2, 3) cache hit\n",
      "\n",
      "Compute a new value, triggering cache expiration\n",
      "(3, 4) called expensive(3, 4)\n",
      "\n",
      "Cache still contains one old item\n",
      "(2, 3) cache hit\n",
      "\n",
      "Oldest item needs to be recomputed\n",
      "(1, 2) called expensive(1, 2)\n"
     ]
    }
   ],
   "source": [
    "@functools.lru_cache(maxsize=2)\n",
    "def expensive(a, b):\n",
    "    print('called expensive({}, {})'.format(a, b))\n",
    "    return a * b\n",
    "\n",
    "\n",
    "def make_call(a, b):\n",
    "    print('({}, {})'.format(a, b), end=' ')\n",
    "    pre_hits = expensive.cache_info().hits\n",
    "    expensive(a, b)\n",
    "    post_hits = expensive.cache_info().hits\n",
    "    if post_hits > pre_hits:\n",
    "        print('cache hit')\n",
    "\n",
    "\n",
    "print('Establish the cache')\n",
    "make_call(1, 2)\n",
    "make_call(2, 3)\n",
    "\n",
    "print('\\nUse cached items')\n",
    "make_call(1, 2)\n",
    "make_call(2, 3)\n",
    "\n",
    "print('\\nCompute a new value, triggering cache expiration')\n",
    "make_call(3, 4)\n",
    "\n",
    "print('\\nCache still contains one old item')\n",
    "make_call(2, 3)\n",
    "\n",
    "print('\\nOldest item needs to be recomputed')\n",
    "make_call(1, 2)"
   ]
  },
  {
   "cell_type": "code",
   "execution_count": 31,
   "metadata": {},
   "outputs": [
    {
     "name": "stdout",
     "output_type": "stream",
     "text": [
      "(1, 2) called expensive(1, 2)\n",
      "([1], 2) ERROR: unhashable type: 'list'\n",
      "(1, {'2': 'two'}) ERROR: unhashable type: 'dict'\n"
     ]
    }
   ],
   "source": [
    "@functools.lru_cache(maxsize=2)\n",
    "def expensive(a, b):\n",
    "    print('called expensive({}, {})'.format(a, b))\n",
    "    return a * b\n",
    "\n",
    "\n",
    "def make_call(a, b):\n",
    "    print('({}, {})'.format(a, b), end=' ')\n",
    "    pre_hits = expensive.cache_info().hits\n",
    "    expensive(a, b)\n",
    "    post_hits = expensive.cache_info().hits\n",
    "    if post_hits > pre_hits:\n",
    "        print('cache hit')\n",
    "\n",
    "make_call(1, 2)\n",
    "\n",
    "try:\n",
    "    make_call([1], 2)\n",
    "except TypeError as err:\n",
    "    print('ERROR: {}'.format(err))\n",
    "\n",
    "try:\n",
    "    make_call(1, {'2': 'two'})\n",
    "except TypeError as err:\n",
    "    print('ERROR: {}'.format(err))"
   ]
  },
  {
   "cell_type": "code",
   "execution_count": 32,
   "metadata": {},
   "outputs": [
    {
     "name": "stdout",
     "output_type": "stream",
     "text": [
      "range(1, 5)\n",
      "do_reduce(1, 2)\n",
      "do_reduce(3, 3)\n",
      "do_reduce(6, 4)\n",
      "result: 10\n"
     ]
    }
   ],
   "source": [
    "def do_reduce(a, b):\n",
    "    print('do_reduce({}, {})'.format(a, b))\n",
    "    return a + b\n",
    "\n",
    "data = range(1, 5)\n",
    "print(data)\n",
    "result = functools.reduce(do_reduce, data)\n",
    "print('result: {}'.format(result))"
   ]
  },
  {
   "cell_type": "code",
   "execution_count": 33,
   "metadata": {},
   "outputs": [
    {
     "name": "stdout",
     "output_type": "stream",
     "text": [
      "range(1, 5)\n",
      "do_reduce(99, 1)\n",
      "do_reduce(100, 2)\n",
      "do_reduce(102, 3)\n",
      "do_reduce(105, 4)\n",
      "result: 109\n"
     ]
    }
   ],
   "source": [
    "def do_reduce(a, b):\n",
    "    print('do_reduce({}, {})'.format(a, b))\n",
    "    return a + b\n",
    "\n",
    "\n",
    "data = range(1, 5)\n",
    "print(data)\n",
    "result = functools.reduce(do_reduce, data, 99)\n",
    "print('result: {}'.format(result))"
   ]
  },
  {
   "cell_type": "code",
   "execution_count": 34,
   "metadata": {},
   "outputs": [
    {
     "name": "stdout",
     "output_type": "stream",
     "text": [
      "Single item in sequence: 1\n",
      "do_reduce(99, 1)\n",
      "Single item in sequence with initializer: 100\n",
      "Empty sequence with initializer: 99\n",
      "ERROR: reduce() of empty sequence with no initial value\n"
     ]
    }
   ],
   "source": [
    "def do_reduce(a, b):\n",
    "    print('do_reduce({}, {})'.format(a, b))\n",
    "    return a + b\n",
    "\n",
    "\n",
    "print('Single item in sequence:',\n",
    "      functools.reduce(do_reduce, [1]))\n",
    "\n",
    "print('Single item in sequence with initializer:',\n",
    "      functools.reduce(do_reduce, [1], 99))\n",
    "\n",
    "print('Empty sequence with initializer:',\n",
    "      functools.reduce(do_reduce, [], 99))\n",
    "\n",
    "try:\n",
    "    print('Empty sequence:', functools.reduce(do_reduce, []))\n",
    "except TypeError as err:\n",
    "    print('ERROR: {}'.format(err))"
   ]
  },
  {
   "cell_type": "code",
   "execution_count": 35,
   "metadata": {},
   "outputs": [
    {
     "name": "stdout",
     "output_type": "stream",
     "text": [
      "default myfunc('string argument')\n",
      "myfunc_int(1)\n",
      "default myfunc(2.3)\n",
      "myfunc_list()\n",
      "  a\n",
      "  b\n",
      "  c\n"
     ]
    }
   ],
   "source": [
    "@functools.singledispatch\n",
    "def myfunc(arg):\n",
    "    print('default myfunc({!r})'.format(arg))\n",
    "\n",
    "@myfunc.register(int)\n",
    "def myfunc_int(arg):\n",
    "    print('myfunc_int({})'.format(arg))\n",
    "\n",
    "@myfunc.register(list)\n",
    "def myfunc_list(arg):\n",
    "    print('myfunc_list()')\n",
    "    for item in arg:\n",
    "        print('  {}'.format(item))\n",
    "        \n",
    "myfunc('string argument')\n",
    "myfunc(1)\n",
    "myfunc(2.3)\n",
    "myfunc(['a', 'b', 'c'])"
   ]
  },
  {
   "cell_type": "code",
   "execution_count": 36,
   "metadata": {},
   "outputs": [
    {
     "name": "stdout",
     "output_type": "stream",
     "text": [
      "myfunc_A(A)\n",
      "myfunc_B(B)\n",
      "myfunc_C(C)\n",
      "myfunc_B(D)\n",
      "myfunc_C(E)\n"
     ]
    }
   ],
   "source": [
    "class A:\n",
    "    pass\n",
    "\n",
    "\n",
    "class B(A):\n",
    "    pass\n",
    "\n",
    "\n",
    "class C(A):\n",
    "    pass\n",
    "\n",
    "\n",
    "class D(B):\n",
    "    pass\n",
    "\n",
    "\n",
    "class E(C, D):\n",
    "    pass\n",
    "\n",
    "\n",
    "@functools.singledispatch\n",
    "def myfunc(arg):\n",
    "    print('default myfunc({})'.format(arg.__class__.__name__))\n",
    "\n",
    "\n",
    "@myfunc.register(A)\n",
    "def myfunc_A(arg):\n",
    "    print('myfunc_A({})'.format(arg.__class__.__name__))\n",
    "\n",
    "\n",
    "@myfunc.register(B)\n",
    "def myfunc_B(arg):\n",
    "    print('myfunc_B({})'.format(arg.__class__.__name__))\n",
    "\n",
    "\n",
    "@myfunc.register(C)\n",
    "def myfunc_C(arg):\n",
    "    print('myfunc_C({})'.format(arg.__class__.__name__))\n",
    "\n",
    "\n",
    "myfunc(A())\n",
    "myfunc(B())\n",
    "myfunc(C())\n",
    "myfunc(D())\n",
    "myfunc(E())"
   ]
  },
  {
   "cell_type": "code",
   "execution_count": null,
   "metadata": {},
   "outputs": [],
   "source": []
  }
 ],
 "metadata": {
  "kernelspec": {
   "display_name": "Python 3",
   "language": "python",
   "name": "python3"
  },
  "language_info": {
   "codemirror_mode": {
    "name": "ipython",
    "version": 3
   },
   "file_extension": ".py",
   "mimetype": "text/x-python",
   "name": "python",
   "nbconvert_exporter": "python",
   "pygments_lexer": "ipython3",
   "version": "3.6.4"
  }
 },
 "nbformat": 4,
 "nbformat_minor": 2
}
