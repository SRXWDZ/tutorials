{
 "cells": [
  {
   "cell_type": "code",
   "execution_count": 29,
   "metadata": {},
   "outputs": [
    {
     "name": "stdout",
     "output_type": "stream",
     "text": [
      "A : <class 'example.A'>\n",
      "B : <class 'example.B'>\n",
      "instance_of_a : <example.A object at 0x0000015083E989A0>\n",
      "module_level_function : <function module_level_function at 0x0000015083ECBB80>\n"
     ]
    }
   ],
   "source": [
    "import inspect\n",
    "\n",
    "import example\n",
    "for name, data in inspect.getmembers(example):\n",
    "    if name.startswith('__'):\n",
    "        continue\n",
    "    print('{} : {!r}'.format(name, data))"
   ]
  },
  {
   "cell_type": "code",
   "execution_count": 28,
   "metadata": {},
   "outputs": [
    {
     "name": "stdout",
     "output_type": "stream",
     "text": [
      "A : <class 'example.A'>\n",
      "B : <class 'example.B'>\n"
     ]
    }
   ],
   "source": [
    "import inspect\n",
    "\n",
    "import example\n",
    "\n",
    "for name, data in inspect.getmembers(example, predicate=inspect.isclass):\n",
    "    print('{} : {!r}'.format(name, data))"
   ]
  },
  {
   "cell_type": "code",
   "execution_count": 30,
   "metadata": {},
   "outputs": [
    {
     "name": "stdout",
     "output_type": "stream",
     "text": [
      "[('__class__', <class 'type'>),\n",
      " ('__delattr__',\n",
      "  <slot wrapper '__delattr__' of 'object' objects>),\n",
      " ('__dict__',\n",
      "  mappingproxy({'__dict__': <attribute '__dict__' of 'A' objects>,\n",
      "                '__doc__': 'The A class.',\n",
      "                '__init__': <function A.__init__ at 0x0000015083DDDAF0>,\n",
      "                '__module__': 'example',\n",
      "                '__weakref__': <attribute '__weakref__' of 'A' objects>,\n",
      "                'get_name': <function A.get_name at 0x0000015083DDD8B0>})),\n",
      " ('__dir__', <method '__dir__' of 'object' objects>),\n",
      " ('__doc__', 'The A class.'),\n",
      " ('__eq__', <slot wrapper '__eq__' of 'object' objects>),\n",
      " ('__format__', <method '__format__' of 'object' objects>),\n",
      " ('__ge__', <slot wrapper '__ge__' of 'object' objects>),\n",
      " ('__getattribute__',\n",
      "  <slot wrapper '__getattribute__' of 'object' objects>),\n",
      " ('__gt__', <slot wrapper '__gt__' of 'object' objects>),\n",
      " ('__hash__', <slot wrapper '__hash__' of 'object' objects>),\n",
      " ('__init__', <function A.__init__ at 0x0000015083DDDAF0>),\n",
      " ('__init_subclass__',\n",
      "  <built-in method __init_subclass__ of type object at 0x00000150833690D0>),\n",
      " ('__le__', <slot wrapper '__le__' of 'object' objects>),\n",
      " ('__lt__', <slot wrapper '__lt__' of 'object' objects>),\n",
      " ('__module__', 'example'),\n",
      " ('__ne__', <slot wrapper '__ne__' of 'object' objects>),\n",
      " ('__new__',\n",
      "  <built-in method __new__ of type object at 0x00007FF923E7CB50>),\n",
      " ('__reduce__', <method '__reduce__' of 'object' objects>),\n",
      " ('__reduce_ex__', <method '__reduce_ex__' of 'object' objects>),\n",
      " ('__repr__', <slot wrapper '__repr__' of 'object' objects>),\n",
      " ('__setattr__',\n",
      "  <slot wrapper '__setattr__' of 'object' objects>),\n",
      " ('__sizeof__', <method '__sizeof__' of 'object' objects>),\n",
      " ('__str__', <slot wrapper '__str__' of 'object' objects>),\n",
      " ('__subclasshook__',\n",
      "  <built-in method __subclasshook__ of type object at 0x00000150833690D0>),\n",
      " ('__weakref__', <attribute '__weakref__' of 'A' objects>),\n",
      " ('get_name', <function A.get_name at 0x0000015083DDD8B0>)]\n"
     ]
    }
   ],
   "source": [
    "import inspect\n",
    "from pprint import pprint\n",
    "\n",
    "import example\n",
    "\n",
    "pprint(inspect.getmembers(example.A), width=65)"
   ]
  },
  {
   "cell_type": "code",
   "execution_count": 31,
   "metadata": {},
   "outputs": [
    {
     "name": "stdout",
     "output_type": "stream",
     "text": [
      "[('__init__', <function A.__init__ at 0x0000015083DDDAF0>),\n",
      " ('get_name', <function A.get_name at 0x0000015083DDD8B0>)]\n"
     ]
    }
   ],
   "source": [
    "import inspect\n",
    "from pprint import pprint\n",
    "\n",
    "import example\n",
    "\n",
    "pprint(inspect.getmembers(example.A, inspect.isfunction))"
   ]
  },
  {
   "cell_type": "code",
   "execution_count": 32,
   "metadata": {},
   "outputs": [
    {
     "name": "stdout",
     "output_type": "stream",
     "text": [
      "[('__init__', <function A.__init__ at 0x0000015083DDDAF0>),\n",
      " ('do_something', <function B.do_something at 0x0000015083DDDA60>),\n",
      " ('get_name', <function B.get_name at 0x0000015083EE14C0>)]\n"
     ]
    }
   ],
   "source": [
    "import inspect\n",
    "from pprint import pprint\n",
    "\n",
    "import example\n",
    "\n",
    "pprint(inspect.getmembers(example.B, inspect.isfunction))"
   ]
  },
  {
   "cell_type": "code",
   "execution_count": 33,
   "metadata": {},
   "outputs": [
    {
     "name": "stdout",
     "output_type": "stream",
     "text": [
      "[('__init__',\n",
      "  <bound method A.__init__ of <example.A object at 0x0000015083F128B0>>),\n",
      " ('get_name',\n",
      "  <bound method A.get_name of <example.A object at 0x0000015083F128B0>>)]\n"
     ]
    }
   ],
   "source": [
    "import inspect\n",
    "from pprint import pprint\n",
    "\n",
    "import example\n",
    "\n",
    "a = example.A(name='inspect_getmembers')\n",
    "pprint(inspect.getmembers(a, inspect.ismethod))"
   ]
  },
  {
   "cell_type": "code",
   "execution_count": 34,
   "metadata": {},
   "outputs": [
    {
     "name": "stdout",
     "output_type": "stream",
     "text": [
      "B.__doc__:\n",
      "This is the B class.\n",
      "    It is derived from A.\n",
      "    \n",
      "\n",
      "getdoc(B):\n",
      "This is the B class.\n",
      "It is derived from A.\n"
     ]
    }
   ],
   "source": [
    "import inspect\n",
    "import example\n",
    "\n",
    "print('B.__doc__:')\n",
    "print(example.B.__doc__)\n",
    "print()\n",
    "print('getdoc(B):')\n",
    "print(inspect.getdoc(example.B))"
   ]
  },
  {
   "cell_type": "code",
   "execution_count": 35,
   "metadata": {},
   "outputs": [
    {
     "name": "stdout",
     "output_type": "stream",
     "text": [
      "# This method is not part of A.\n",
      "\n"
     ]
    }
   ],
   "source": [
    "import inspect\n",
    "import example\n",
    "\n",
    "print(inspect.getcomments(example.B.do_something))"
   ]
  },
  {
   "cell_type": "code",
   "execution_count": 36,
   "metadata": {},
   "outputs": [
    {
     "name": "stdout",
     "output_type": "stream",
     "text": [
      "# This comment appears first\n",
      "# and spans 2 lines.\n",
      "\n"
     ]
    }
   ],
   "source": [
    "import inspect\n",
    "import example\n",
    "\n",
    "print(inspect.getcomments(example))"
   ]
  },
  {
   "cell_type": "code",
   "execution_count": 37,
   "metadata": {},
   "outputs": [
    {
     "name": "stdout",
     "output_type": "stream",
     "text": [
      "class A(object):\n",
      "    \"\"\"The A class.\"\"\"\n",
      "\n",
      "    def __init__(self, name):\n",
      "        self.name = name\n",
      "\n",
      "    def get_name(self):\n",
      "        \"Returns the name of the instance.\"\n",
      "        return self.name\n",
      "\n"
     ]
    }
   ],
   "source": [
    "import inspect\n",
    "import example\n",
    "\n",
    "print(inspect.getsource(example.A))"
   ]
  },
  {
   "cell_type": "code",
   "execution_count": 38,
   "metadata": {},
   "outputs": [
    {
     "name": "stdout",
     "output_type": "stream",
     "text": [
      "    def get_name(self):\n",
      "        \"Returns the name of the instance.\"\n",
      "        return self.name\n",
      "\n"
     ]
    }
   ],
   "source": [
    "import inspect\n",
    "import example\n",
    "\n",
    "print(inspect.getsource(example.A.get_name))"
   ]
  },
  {
   "cell_type": "code",
   "execution_count": 39,
   "metadata": {},
   "outputs": [
    {
     "name": "stdout",
     "output_type": "stream",
     "text": [
      "(['    def get_name(self):\\n',\n",
      "  '        \"Returns the name of the instance.\"\\n',\n",
      "  '        return self.name\\n'],\n",
      " 22)\n"
     ]
    }
   ],
   "source": [
    "import inspect\n",
    "import pprint\n",
    "import example\n",
    "\n",
    "pprint.pprint(inspect.getsourcelines(example.A.get_name))"
   ]
  },
  {
   "cell_type": "code",
   "execution_count": 40,
   "metadata": {},
   "outputs": [
    {
     "name": "stdout",
     "output_type": "stream",
     "text": [
      "module_level_function(arg1, arg2='default', *args, **kwargs)\n",
      "\n",
      "Parameter details:\n",
      "  arg1\n",
      "  arg2='default'\n",
      "  *args\n",
      "  **kwargs\n"
     ]
    }
   ],
   "source": [
    "import inspect\n",
    "import example\n",
    "\n",
    "sig = inspect.signature(example.module_level_function)\n",
    "print('module_level_function{}'.format(sig))\n",
    "\n",
    "print('\\nParameter details:')\n",
    "for name, param in sig.parameters.items():\n",
    "    if param.kind == inspect.Parameter.POSITIONAL_ONLY:\n",
    "        print('  {} (positional-only)'.format(name))\n",
    "    elif param.kind == inspect.Parameter.POSITIONAL_OR_KEYWORD:\n",
    "        if param.default != inspect.Parameter.empty:\n",
    "            print('  {}={!r}'.format(name, param.default))\n",
    "        else:\n",
    "            print('  {}'.format(name))\n",
    "    elif param.kind == inspect.Parameter.VAR_POSITIONAL:\n",
    "        print('  *{}'.format(name))\n",
    "    elif param.kind == inspect.Parameter.KEYWORD_ONLY:\n",
    "        if param.default != inspect.Parameter.empty:\n",
    "            print('  {}={!r} (keyword-only)'.format(\n",
    "                name, param.default))\n",
    "        else:\n",
    "            print('  {} (keyword-only)'.format(name))\n",
    "    elif param.kind == inspect.Parameter.VAR_KEYWORD:\n",
    "        print('  **{}'.format(name))"
   ]
  },
  {
   "cell_type": "code",
   "execution_count": 41,
   "metadata": {},
   "outputs": [
    {
     "name": "stdout",
     "output_type": "stream",
     "text": [
      "Arguments:\n",
      "arg1 = 'this is arg1'\n",
      "arg2 = 'this is arg2'\n",
      "args = ('this is an extra positional argument',)\n",
      "kwargs = {'extra_named_arg': 'value'}\n",
      "\n",
      "Calling:\n",
      "this is arg1this is arg1\n"
     ]
    }
   ],
   "source": [
    "import inspect\n",
    "import example\n",
    "\n",
    "sig = inspect.signature(example.module_level_function)\n",
    "\n",
    "bound = sig.bind(\n",
    "    'this is arg1',\n",
    "    'this is arg2',\n",
    "    'this is an extra positional argument',\n",
    "    extra_named_arg='value',\n",
    ")\n",
    "\n",
    "print('Arguments:')\n",
    "for name, value in bound.arguments.items():\n",
    "    print('{} = {!r}'.format(name, value))\n",
    "\n",
    "print('\\nCalling:')\n",
    "print(example.module_level_function(*bound.args, **bound.kwargs))"
   ]
  },
  {
   "cell_type": "code",
   "execution_count": null,
   "metadata": {},
   "outputs": [],
   "source": []
  },
  {
   "cell_type": "code",
   "execution_count": null,
   "metadata": {},
   "outputs": [],
   "source": []
  },
  {
   "cell_type": "code",
   "execution_count": null,
   "metadata": {},
   "outputs": [],
   "source": []
  }
 ],
 "metadata": {
  "kernelspec": {
   "display_name": "Python 3",
   "language": "python",
   "name": "python3"
  },
  "language_info": {
   "codemirror_mode": {
    "name": "ipython",
    "version": 3
   },
   "file_extension": ".py",
   "mimetype": "text/x-python",
   "name": "python",
   "nbconvert_exporter": "python",
   "pygments_lexer": "ipython3",
   "version": "3.8.3"
  },
  "toc": {
   "base_numbering": 1,
   "nav_menu": {},
   "number_sections": true,
   "sideBar": true,
   "skip_h1_title": false,
   "title_cell": "Table of Contents",
   "title_sidebar": "Contents",
   "toc_cell": false,
   "toc_position": {},
   "toc_section_display": true,
   "toc_window_display": false
  }
 },
 "nbformat": 4,
 "nbformat_minor": 4
}
