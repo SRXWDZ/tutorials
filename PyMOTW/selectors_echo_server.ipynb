{
 "cells": [
  {
   "cell_type": "code",
   "execution_count": 1,
   "metadata": {
    "scrolled": false
   },
   "outputs": [
    {
     "name": "stdout",
     "output_type": "stream",
     "text": [
      "starting up on localhost port 65535\n",
      "waiting for I/O\n",
      "waiting for I/O\n",
      "waiting for I/O\n",
      "waiting for I/O\n",
      "waiting for I/O\n",
      "SelectorKey(fileobj=<socket.socket fd=1236, family=AddressFamily.AF_INET, type=SocketKind.SOCK_STREAM, proto=0, laddr=('127.0.0.1', 65535)>, fd=1236, events=1, data=<function accept at 0x0000017C16C7DAF0>)\n",
      "1\n",
      "<function accept at 0x0000017C16C7DAF0>\n",
      "<socket.socket fd=1236, family=AddressFamily.AF_INET, type=SocketKind.SOCK_STREAM, proto=0, laddr=('127.0.0.1', 65535)>\n",
      "accept(('127.0.0.1', 64822))\n",
      "waiting for I/O\n",
      "SelectorKey(fileobj=<socket.socket fd=1272, family=AddressFamily.AF_INET, type=SocketKind.SOCK_STREAM, proto=0, laddr=('127.0.0.1', 65535), raddr=('127.0.0.1', 64822)>, fd=1272, events=1, data=<function read at 0x0000017C16C7DA60>)\n",
      "1\n",
      "<function read at 0x0000017C16C7DA60>\n",
      "<socket.socket fd=1272, family=AddressFamily.AF_INET, type=SocketKind.SOCK_STREAM, proto=0, laddr=('127.0.0.1', 65535), raddr=('127.0.0.1', 64822)>\n",
      "read(('127.0.0.1', 64822))\n",
      "  received b'This is the message.  '\n",
      "waiting for I/O\n",
      "SelectorKey(fileobj=<socket.socket fd=1272, family=AddressFamily.AF_INET, type=SocketKind.SOCK_STREAM, proto=0, laddr=('127.0.0.1', 65535), raddr=('127.0.0.1', 64822)>, fd=1272, events=1, data=<function read at 0x0000017C16C7DA60>)\n",
      "1\n",
      "<function read at 0x0000017C16C7DA60>\n",
      "<socket.socket fd=1272, family=AddressFamily.AF_INET, type=SocketKind.SOCK_STREAM, proto=0, laddr=('127.0.0.1', 65535), raddr=('127.0.0.1', 64822)>\n",
      "read(('127.0.0.1', 64822))\n",
      "  received b'It will be repeated.'\n",
      "waiting for I/O\n",
      "SelectorKey(fileobj=<socket.socket fd=1272, family=AddressFamily.AF_INET, type=SocketKind.SOCK_STREAM, proto=0, laddr=('127.0.0.1', 65535), raddr=('127.0.0.1', 64822)>, fd=1272, events=1, data=<function read at 0x0000017C16C7DA60>)\n",
      "1\n",
      "<function read at 0x0000017C16C7DA60>\n",
      "<socket.socket fd=1272, family=AddressFamily.AF_INET, type=SocketKind.SOCK_STREAM, proto=0, laddr=('127.0.0.1', 65535), raddr=('127.0.0.1', 64822)>\n",
      "read(('127.0.0.1', 64822))\n"
     ]
    },
    {
     "ename": "ConnectionAbortedError",
     "evalue": "[WinError 10053] An established connection was aborted by the software in your host machine",
     "output_type": "error",
     "traceback": [
      "\u001b[1;31m---------------------------------------------------------------------------\u001b[0m",
      "\u001b[1;31mConnectionAbortedError\u001b[0m                    Traceback (most recent call last)",
      "\u001b[1;32m<ipython-input-1-89209db5f55f>\u001b[0m in \u001b[0;36m<module>\u001b[1;34m\u001b[0m\n\u001b[0;32m     51\u001b[0m         \u001b[0mprint\u001b[0m\u001b[1;33m(\u001b[0m\u001b[0mkey\u001b[0m\u001b[1;33m.\u001b[0m\u001b[0mfileobj\u001b[0m\u001b[1;33m)\u001b[0m\u001b[1;33m\u001b[0m\u001b[1;33m\u001b[0m\u001b[0m\n\u001b[0;32m     52\u001b[0m         \u001b[0mcallback\u001b[0m \u001b[1;33m=\u001b[0m \u001b[0mkey\u001b[0m\u001b[1;33m.\u001b[0m\u001b[0mdata\u001b[0m\u001b[1;33m\u001b[0m\u001b[1;33m\u001b[0m\u001b[0m\n\u001b[1;32m---> 53\u001b[1;33m         \u001b[0mcallback\u001b[0m\u001b[1;33m(\u001b[0m\u001b[0mkey\u001b[0m\u001b[1;33m.\u001b[0m\u001b[0mfileobj\u001b[0m\u001b[1;33m,\u001b[0m \u001b[0mmask\u001b[0m\u001b[1;33m)\u001b[0m\u001b[1;33m\u001b[0m\u001b[1;33m\u001b[0m\u001b[0m\n\u001b[0m\u001b[0;32m     54\u001b[0m \u001b[1;33m\u001b[0m\u001b[0m\n\u001b[0;32m     55\u001b[0m \u001b[0mprint\u001b[0m\u001b[1;33m(\u001b[0m\u001b[1;34m'shutting down'\u001b[0m\u001b[1;33m)\u001b[0m\u001b[1;33m\u001b[0m\u001b[1;33m\u001b[0m\u001b[0m\n",
      "\u001b[1;32m<ipython-input-1-89209db5f55f>\u001b[0m in \u001b[0;36mread\u001b[1;34m(connection, mask)\u001b[0m\n\u001b[0;32m     12\u001b[0m     \u001b[0mclient_address\u001b[0m \u001b[1;33m=\u001b[0m \u001b[0mconnection\u001b[0m\u001b[1;33m.\u001b[0m\u001b[0mgetpeername\u001b[0m\u001b[1;33m(\u001b[0m\u001b[1;33m)\u001b[0m\u001b[1;33m\u001b[0m\u001b[1;33m\u001b[0m\u001b[0m\n\u001b[0;32m     13\u001b[0m     \u001b[0mprint\u001b[0m\u001b[1;33m(\u001b[0m\u001b[1;34m'read({})'\u001b[0m\u001b[1;33m.\u001b[0m\u001b[0mformat\u001b[0m\u001b[1;33m(\u001b[0m\u001b[0mclient_address\u001b[0m\u001b[1;33m)\u001b[0m\u001b[1;33m)\u001b[0m\u001b[1;33m\u001b[0m\u001b[1;33m\u001b[0m\u001b[0m\n\u001b[1;32m---> 14\u001b[1;33m     \u001b[0mdata\u001b[0m \u001b[1;33m=\u001b[0m \u001b[0mconnection\u001b[0m\u001b[1;33m.\u001b[0m\u001b[0mrecv\u001b[0m\u001b[1;33m(\u001b[0m\u001b[1;36m1024\u001b[0m\u001b[1;33m)\u001b[0m\u001b[1;33m\u001b[0m\u001b[1;33m\u001b[0m\u001b[0m\n\u001b[0m\u001b[0;32m     15\u001b[0m     \u001b[1;32mif\u001b[0m \u001b[0mdata\u001b[0m\u001b[1;33m:\u001b[0m\u001b[1;33m\u001b[0m\u001b[1;33m\u001b[0m\u001b[0m\n\u001b[0;32m     16\u001b[0m         \u001b[1;31m# A readable client socket has data\u001b[0m\u001b[1;33m\u001b[0m\u001b[1;33m\u001b[0m\u001b[1;33m\u001b[0m\u001b[0m\n",
      "\u001b[1;31mConnectionAbortedError\u001b[0m: [WinError 10053] An established connection was aborted by the software in your host machine"
     ]
    }
   ],
   "source": [
    "import selectors\n",
    "import socket\n",
    "\n",
    "mysel = selectors.DefaultSelector()\n",
    "keep_running = True\n",
    "\n",
    "def read(connection, mask):\n",
    "    \"Callback for read events\"\n",
    "    global keep_running\n",
    "\n",
    "    client_address = connection.getpeername()\n",
    "    print('read({})'.format(client_address))\n",
    "    data = connection.recv(1024)\n",
    "    if data:\n",
    "        # A readable client socket has data\n",
    "        print('  received {!r}'.format(data))\n",
    "        connection.sendall(data)\n",
    "    else:\n",
    "        # Interpret empty result as closed connection\n",
    "        print('  closing')\n",
    "        mysel.unregister(connection)\n",
    "        connection.close()\n",
    "        # Tell the main loop to stop\n",
    "        keep_running = False\n",
    "\n",
    "def accept(sock, mask):\n",
    "    \"Callback for new connections\"\n",
    "    new_connection, addr = sock.accept()\n",
    "    print('accept({})'.format(addr))\n",
    "    new_connection.setblocking(False)\n",
    "    mysel.register(new_connection, selectors.EVENT_READ, read)\n",
    "\n",
    "server_address = ('localhost', 65535)\n",
    "print('starting up on {} port {}'.format(*server_address))\n",
    "server = socket.socket(socket.AF_INET, socket.SOCK_STREAM)\n",
    "server.setblocking(False)\n",
    "server.bind(server_address)\n",
    "server.listen(5)\n",
    "\n",
    "mysel.register(server, selectors.EVENT_READ, accept)\n",
    "\n",
    "while keep_running:\n",
    "    print('waiting for I/O')\n",
    "    for key, mask in mysel.select(timeout=1):\n",
    "        print(key)\n",
    "        print(mask)\n",
    "        print(key.data)\n",
    "        print(key.fileobj)\n",
    "        callback = key.data\n",
    "        callback(key.fileobj, mask)\n",
    "\n",
    "print('shutting down')\n",
    "mysel.close()"
   ]
  },
  {
   "cell_type": "code",
   "execution_count": null,
   "metadata": {},
   "outputs": [],
   "source": []
  }
 ],
 "metadata": {
  "kernelspec": {
   "display_name": "Python 3",
   "language": "python",
   "name": "python3"
  },
  "language_info": {
   "codemirror_mode": {
    "name": "ipython",
    "version": 3
   },
   "file_extension": ".py",
   "mimetype": "text/x-python",
   "name": "python",
   "nbconvert_exporter": "python",
   "pygments_lexer": "ipython3",
   "version": "3.8.3"
  },
  "toc": {
   "base_numbering": 1,
   "nav_menu": {},
   "number_sections": true,
   "sideBar": true,
   "skip_h1_title": false,
   "title_cell": "Table of Contents",
   "title_sidebar": "Contents",
   "toc_cell": false,
   "toc_position": {},
   "toc_section_display": true,
   "toc_window_display": false
  }
 },
 "nbformat": 4,
 "nbformat_minor": 4
}
