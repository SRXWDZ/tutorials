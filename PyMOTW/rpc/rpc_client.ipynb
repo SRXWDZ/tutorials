{
 "cells": [
  {
   "cell_type": "code",
   "execution_count": null,
   "metadata": {},
   "outputs": [],
   "source": [
    "from multiprocessing.connection import Client\n",
    "import pickle\n",
    "from multiprocessing.connection import Listener\n",
    "from threading import Thread\n",
    "c = Client(('localhost', 25000), authkey=b'1234')\n",
    "class RPCProxy:\n",
    "\n",
    "    def __init__(self, conn):\n",
    "        self._conn = conn\n",
    "\n",
    "    def __getattr__(self, item):\n",
    "\n",
    "        def do_rpc(*args, **kwargs):\n",
    "            self._conn.send(pickle.dumps((item, args, kwargs)))\n",
    "            result = pickle.loads(self._conn.recv())\n",
    "            if isinstance(result, Exception):\n",
    "                raise result\n",
    "            return result\n",
    "        return do_rpc\n",
    "proxy = RPCProxy(c)\n",
    "proxy.add(2,3)"
   ]
  },
  {
   "cell_type": "code",
   "execution_count": null,
   "metadata": {},
   "outputs": [],
   "source": [
    "a = proxy.sub(2,3)\n",
    "a"
   ]
  },
  {
   "cell_type": "code",
   "execution_count": null,
   "metadata": {},
   "outputs": [],
   "source": [
    "\n"
   ]
  },
  {
   "cell_type": "code",
   "execution_count": null,
   "metadata": {},
   "outputs": [],
   "source": []
  }
 ],
 "metadata": {
  "kernelspec": {
   "display_name": "Python 3",
   "language": "python",
   "name": "python3"
  },
  "language_info": {
   "codemirror_mode": {
    "name": "ipython",
    "version": 3
   },
   "file_extension": ".py",
   "mimetype": "text/x-python",
   "name": "python",
   "nbconvert_exporter": "python",
   "pygments_lexer": "ipython3",
   "version": "3.6.4"
  }
 },
 "nbformat": 4,
 "nbformat_minor": 2
}
