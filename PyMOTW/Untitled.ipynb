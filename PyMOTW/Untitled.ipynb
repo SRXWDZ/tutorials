{
 "cells": [
  {
   "cell_type": "code",
   "execution_count": 72,
   "metadata": {},
   "outputs": [
    {
     "name": "stdout",
     "output_type": "stream",
     "text": [
      "(a, b, c='default', *args, **kwargs)\n",
      "bound: <BoundArguments (a=1, b=2, c=3, args=(4,), kwargs={'extra_kw': 5})>\n",
      "bound.arguments OrderedDict([('a', 1), ('b', 2), ('c', 3), ('args', (4,)), ('kwargs', {'extra_kw': 5})])\n",
      "((4,), {'extra_kw': 5})\n"
     ]
    }
   ],
   "source": [
    "from inspect import signature\n",
    "\n",
    "def extract_extra_args_and_kwargs(f, *args, **kwargs):\n",
    "    sig = signature(f)\n",
    "    print(sig)\n",
    "    bound = sig.bind(*args, **kwargs)\n",
    "    print(\"bound:\", bound,end='\\n')\n",
    "    print(\"bound.arguments\", bound.arguments)\n",
    "    return bound.arguments['args'], bound.arguments['kwargs']\n",
    "\n",
    "def fn(a, b, c='default', *args, **kwargs):\n",
    "    print(f'a={a}, b={b}, c={c}')\n",
    "    print(f'args={args}')\n",
    "    print(f'kwargs={kwargs}')\n",
    "args = (1, 2, 3, 4)\n",
    "kwargs = {'extra_kw': 5}\n",
    "print(extract_extra_args_and_kwargs(fn, *args, **kwargs))"
   ]
  },
  {
   "cell_type": "code",
   "execution_count": null,
   "metadata": {},
   "outputs": [],
   "source": []
  },
  {
   "cell_type": "code",
   "execution_count": null,
   "metadata": {},
   "outputs": [],
   "source": []
  },
  {
   "cell_type": "code",
   "execution_count": null,
   "metadata": {},
   "outputs": [],
   "source": []
  },
  {
   "cell_type": "code",
   "execution_count": null,
   "metadata": {},
   "outputs": [],
   "source": []
  },
  {
   "cell_type": "code",
   "execution_count": null,
   "metadata": {},
   "outputs": [],
   "source": []
  },
  {
   "cell_type": "code",
   "execution_count": null,
   "metadata": {},
   "outputs": [],
   "source": []
  }
 ],
 "metadata": {
  "kernelspec": {
   "display_name": "Python 3",
   "language": "python",
   "name": "python3"
  },
  "language_info": {
   "codemirror_mode": {
    "name": "ipython",
    "version": 3
   },
   "file_extension": ".py",
   "mimetype": "text/x-python",
   "name": "python",
   "nbconvert_exporter": "python",
   "pygments_lexer": "ipython3",
   "version": "3.8.3"
  },
  "toc": {
   "base_numbering": 1,
   "nav_menu": {},
   "number_sections": true,
   "sideBar": true,
   "skip_h1_title": false,
   "title_cell": "Table of Contents",
   "title_sidebar": "Contents",
   "toc_cell": false,
   "toc_position": {},
   "toc_section_display": true,
   "toc_window_display": false
  }
 },
 "nbformat": 4,
 "nbformat_minor": 4
}
